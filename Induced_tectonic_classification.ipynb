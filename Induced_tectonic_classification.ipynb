# Attempts would be made to discriminate between natural and tectonic earthquakes 
# this would be done using waveform data, spectrograms and various catalog information

